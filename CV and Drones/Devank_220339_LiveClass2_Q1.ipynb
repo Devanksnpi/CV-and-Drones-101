{
 "cells": [
  {
   "cell_type": "code",
   "execution_count": 1,
   "id": "663fec1e-c006-4e9e-8fc0-0ab5cb394ea6",
   "metadata": {},
   "outputs": [],
   "source": [
    "import cv2\n",
    "import matplotlib.pyplot as plt\n",
    "import numpy as np\n",
    "%matplotlib inline"
   ]
  },
  {
   "cell_type": "code",
   "execution_count": 2,
   "id": "764fff7b-24c5-401e-a955-b360426a9edb",
   "metadata": {},
   "outputs": [],
   "source": [
    "def solve(s):\n",
    "    img = cv2.imread(s)\n",
    "    blurred = cv2.GaussianBlur(img, (5,5), 0)\n",
    "    edges= cv2.Canny(blurred, 100, 255)\n",
    "    fig, ax = plt.subplots(1,2,figsize=[10,10])\n",
    "    ax[0].imshow(img[:,:,::-1], cmap='gray')\n",
    "    ax[0].axis('off')\n",
    "    ax[1].imshow(edges,cmap='gray')\n",
    "    ax[1].axis('off')\n",
    "\n",
    "    return edges"
   ]
  },
  {
   "cell_type": "code",
   "execution_count": null,
   "id": "05e05cb2-4008-490e-9a62-094634a706d5",
   "metadata": {},
   "outputs": [],
   "source": []
  }
 ],
 "metadata": {
  "kernelspec": {
   "display_name": "Python 3 (ipykernel)",
   "language": "python",
   "name": "python3"
  },
  "language_info": {
   "codemirror_mode": {
    "name": "ipython",
    "version": 3
   },
   "file_extension": ".py",
   "mimetype": "text/x-python",
   "name": "python",
   "nbconvert_exporter": "python",
   "pygments_lexer": "ipython3",
   "version": "3.11.4"
  }
 },
 "nbformat": 4,
 "nbformat_minor": 5
}
