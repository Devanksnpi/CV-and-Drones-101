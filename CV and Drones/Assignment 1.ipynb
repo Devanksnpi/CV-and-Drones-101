{
 "cells": [
  {
   "cell_type": "code",
   "execution_count": 1,
   "id": "47242c9f-f422-4dc0-94f3-a5c1d3c554e2",
   "metadata": {},
   "outputs": [],
   "source": [
    "import cv2\n",
    "import numpy as np"
   ]
  },
  {
   "cell_type": "code",
   "execution_count": 2,
   "id": "92157536-01da-4347-acf0-93f8d150ba0e",
   "metadata": {},
   "outputs": [],
   "source": [
    "raw_path = r\"./images/za_warudo.jpg\"\n",
    "img = cv2.imread(raw_path)\n",
    "gray = cv2.cvtColor(img, cv2.COLOR_BGR2GRAY)\n",
    "\n",
    "# Compute the discrete Fourier Transform of the image\n",
    "# fourier = cv2.dft(np.float32(gray), flags=cv2.DFT_COMPLEX_OUTPUT)\n",
    " \n",
    "# # Shift the zero-frequency component to the center of the spectrum\n",
    "# fourier_shift = np.fft.fftshift(fourier)\n",
    " \n",
    "# # calculate the magnitude of the Fourier Transform\n",
    "# magnitude = 20*np.log(cv2.magnitude(fourier_shift[:,:,0],fourier_shift[:,:,1]))\n",
    " \n",
    "# # Scale the magnitude for display\n",
    "# magnitude = cv2.normalize(magnitude, None, 0, 255, cv2.NORM_MINMAX, cv2.CV_8UC1)\n",
    " \n",
    "# # Display the magnitude of the Fourier Transform\n",
    "# cv2.imshow('Fourier Transform', magnitude)\n",
    "# cv2.waitKey(0)"
   ]
  },
  {
   "cell_type": "code",
   "execution_count": 3,
   "id": "ea4c2220-c29b-48ef-b81c-2f21d6ac9518",
   "metadata": {},
   "outputs": [],
   "source": [
    "# cv2.imshow(\"Star Platinum\", img)\n",
    "# cv2.waitKey(0)"
   ]
  },
  {
   "cell_type": "code",
   "execution_count": 4,
   "id": "d637a18a-5221-4894-a3fd-8b8b5a282572",
   "metadata": {},
   "outputs": [],
   "source": [
    "fourier = cv2.dft(np.float32(gray), flags=cv2.DFT_COMPLEX_OUTPUT)"
   ]
  },
  {
   "cell_type": "code",
   "execution_count": 6,
   "id": "c41d967c-6ea3-436d-889e-3e64bc898a2e",
   "metadata": {},
   "outputs": [
    {
     "data": {
      "text/plain": [
       "(299, 169, 2)"
      ]
     },
     "execution_count": 6,
     "metadata": {},
     "output_type": "execute_result"
    }
   ],
   "source": [
    "fourier.shape"
   ]
  },
  {
   "cell_type": "code",
   "execution_count": 5,
   "id": "d2eaf823-57a0-4fd0-8611-2491274e1437",
   "metadata": {},
   "outputs": [
    {
     "data": {
      "text/plain": [
       "numpy.ndarray"
      ]
     },
     "execution_count": 5,
     "metadata": {},
     "output_type": "execute_result"
    }
   ],
   "source": [
    "type(fourier)"
   ]
  },
  {
   "cell_type": "code",
   "execution_count": 8,
   "id": "52a7d2d7-5499-40c7-898c-9ab5a5d61b94",
   "metadata": {},
   "outputs": [],
   "source": [
    "# Shift the zero-frequency component to the center of the spectrum\n",
    "fourier_shift = np.fft.fftshift(fourier)"
   ]
  },
  {
   "cell_type": "code",
   "execution_count": 9,
   "id": "2620036e-165a-4d92-9fc1-f9ab981bda83",
   "metadata": {},
   "outputs": [
    {
     "data": {
      "text/plain": [
       "(299, 169, 2)"
      ]
     },
     "execution_count": 9,
     "metadata": {},
     "output_type": "execute_result"
    }
   ],
   "source": [
    "fourier_shift.shape"
   ]
  },
  {
   "cell_type": "code",
   "execution_count": 11,
   "id": "37fb5076-a36a-439a-abb2-840e6ebb849e",
   "metadata": {},
   "outputs": [],
   "source": [
    "# calculate the magnitude of the Fourier Transform\n",
    "magnitude = 20*np.log(cv2.magnitude(fourier_shift[:,:,0],fourier_shift[:,:,1]))"
   ]
  },
  {
   "cell_type": "code",
   "execution_count": 7,
   "id": "87672b09-ad75-4d0a-8d7d-8673498a129c",
   "metadata": {},
   "outputs": [],
   "source": [
    "# Display the magnitude of the Fourier Transform\n",
    "# cv2.imshow('Fourier Transform', magnitude)\n",
    "# cv2.waitKey(0)\n",
    "# cv2.destroyAllWindows()"
   ]
  },
  {
   "cell_type": "code",
   "execution_count": 12,
   "id": "ad284651-b705-42ab-a2d7-e2dd6563be47",
   "metadata": {},
   "outputs": [
    {
     "data": {
      "text/plain": [
       "(299, 169)"
      ]
     },
     "execution_count": 12,
     "metadata": {},
     "output_type": "execute_result"
    }
   ],
   "source": [
    "magnitude.shape"
   ]
  },
  {
   "cell_type": "code",
   "execution_count": null,
   "id": "98c5b0e0-05e8-4131-9c08-c44433978a4a",
   "metadata": {},
   "outputs": [],
   "source": []
  }
 ],
 "metadata": {
  "kernelspec": {
   "display_name": "Python 3 (ipykernel)",
   "language": "python",
   "name": "python3"
  },
  "language_info": {
   "codemirror_mode": {
    "name": "ipython",
    "version": 3
   },
   "file_extension": ".py",
   "mimetype": "text/x-python",
   "name": "python",
   "nbconvert_exporter": "python",
   "pygments_lexer": "ipython3",
   "version": "3.11.4"
  }
 },
 "nbformat": 4,
 "nbformat_minor": 5
}
