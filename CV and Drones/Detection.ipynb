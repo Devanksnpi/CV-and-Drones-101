{
 "cells": [
  {
   "cell_type": "code",
   "execution_count": 1,
   "metadata": {},
   "outputs": [],
   "source": [
    "import numpy as np\n",
    "import cv2"
   ]
  },
  {
   "cell_type": "code",
   "execution_count": 2,
   "metadata": {},
   "outputs": [],
   "source": [
    "def aruco_display(corners,ids,rejected,image):\n",
    "\tif(len(corners)>0):\n",
    "\t\tids=ids.flatten()\n",
    "\t\tfor(markerCorner,markerID) in zip(corners,ids):\n",
    "\t\t\tcorners=markerCorner.reshape((4,2))\n",
    "\t\t\t(topLeft,topRight,bottomRight,bottomLeft)=corners\n",
    "\t\t\ttopRight=(int(topRight[0]),int(topRight[1]))\n",
    "\t\t\ttopLeft=(int(topLeft[0]),int(topLeft[1]))\n",
    "\t\t\tbottomRight=(int(bottomRight[0]),int(bottomRight[1]))\n",
    "\t\t\tbottomLeft=(int(bottomLeft[0]),int(bottomLeft[1]))\n",
    "\t\t\tcv2.line(image,topLeft,topRight,(0,255,0),2)\n",
    "\t\t\tcv2.line(image,topRight,bottomRight,(0,255,0),2)\n",
    "\t\t\tcv2.line(image,bottomRight,bottomLeft,(0,255,0),2)\n",
    "\t\t\tcv2.line(image,bottomLeft,topLeft,(0,255,0),2)\n",
    "\t\t\tcX=int((topLeft[0]+bottomRight[0]+topRight[0]+bottomLeft[0])/4)\n",
    "\t\t\tcY=int((topLeft[1]+bottomLeft[1]+bottomRight[1]+topRight[1])/4)\n",
    "\t\t\tcv2.circle(image,(cX,cY),4,(0,0,255),-1)\n",
    "\t\t\tprint(str(image.shape[0])+'x'+str(image.shape[1]))\n",
    "\t\t\tprint(\"[Inference] Aruco marker ID: {}\".format(markerID))\n",
    "\n",
    "\treturn image\n"
   ]
  },
  {
   "cell_type": "code",
   "execution_count": 3,
   "metadata": {},
   "outputs": [
    {
     "name": "stdout",
     "output_type": "stream",
     "text": [
      "[[0]]\n",
      "499x500\n",
      "[Inference] Aruco marker ID: 0\n"
     ]
    }
   ],
   "source": [
    "arucoDict=cv2.aruco.getPredefinedDictionary(cv2.aruco.DICT_4X4_50)\n",
    "arucoParams=cv2.aruco.DetectorParameters()\n",
    "detector = cv2.aruco.ArucoDetector(arucoDict,arucoParams)\n",
    "img=cv2.imread(r\"C:\\Users\\pranj\\OneDrive\\Pictures\\Screenshots\\Screenshot 2023-12-23 161714.png\")\n",
    "h,w,_=img.shape\n",
    "width=500\n",
    "height=int(width*(h/w))\n",
    "img=cv2.resize(img,(width,height),interpolation=cv2.INTER_CUBIC)\n",
    "corners,ids,rejected=detector.detectMarkers(img)\n",
    "print(ids)\n",
    "detected_markers=aruco_display(corners,ids,rejected,img)\n",
    "cv2.imshow(\"Image\",detected_markers)\n",
    "cv2.waitKey(0)\n",
    "cv2.destroyAllWindows()"
   ]
  },
  {
   "cell_type": "code",
   "execution_count": 5,
   "metadata": {},
   "outputs": [],
   "source": [
    "cap=cv2.VideoCapture(0)\n",
    "    \n",
    "cap.set(cv2.CAP_PROP_FRAME_WIDTH,1280)\n",
    "cap.set(cv2.CAP_PROP_FRAME_HEIGHT,720)\n",
    "\n",
    "while cap.isOpened():\n",
    "\tret,img=cap.read()\n",
    "\th,w,_=img.shape\n",
    "\twidth=500\n",
    "\theight=int(width*(h/w))\n",
    "\timg=cv2.resize(img,(width,height),interpolation=cv2.INTER_CUBIC)\n",
    "\tarucoDict=cv2.aruco.getPredefinedDictionary(cv2.aruco.DICT_4X4_50)\n",
    "\tarucoParams=cv2.aruco.DetectorParameters()\n",
    "\tdetector = cv2.aruco.ArucoDetector(arucoDict,arucoParams)\n",
    "\tcorners,ids,rejected=detector.detectMarkers(img)\n",
    "\t# detected_markers=aruco_display(corners,ids,rejected,img)\n",
    "\t# cv2.imshow(\"Image\",detected_markers)\n",
    "\tcv2.aruco.drawDetectedMarkers(img, corners)\n",
    "\tcv2.imshow(\"Image\", img)\n",
    "\n",
    "\tkey=cv2.waitKey(10)\n",
    "\n",
    "\tif key == 27:\n",
    "\t\tbreak\n",
    "cv2.destroyAllWindows()\n",
    "cap.release()\n"
   ]
  },
  {
   "cell_type": "code",
   "execution_count": 9,
   "metadata": {},
   "outputs": [],
   "source": [
    "def pose_estimation(frame, aruco_dict_type, matrix_coefficients, distortion_coefficients):\n",
    "\n",
    "\tgray = cv2.cvtColor(frame, cv2.COLOR_BGR2GRAY)\n",
    "\tarucoDict=cv2.aruco.getPredefinedDictionary(cv2.aruco.DICT_4X4_50)\n",
    "\tarucoParams=cv2.aruco.DetectorParameters()\n",
    "\tdetector = cv2.aruco.ArucoDetector(arucoDict,arucoParams)\n",
    "\t# corners, ids, rejected_img_points=cv2.aruco.detectMarkers(gray,arucoDict,parameters=arucoParams)\n",
    "\tcorners, ids, rejected_img_points=detector.detectMarkers(gray)\n",
    "    \n",
    "   \t \n",
    "\tif len(corners) > 0:\n",
    "\t\tfor i in range(0, len(ids)):\n",
    "\t\t\trvec, tvec, markerPoints = cv2.aruco.estimatePoseSingleMarkers(corners[i], 10, matrix_coefficients,distortion_coefficients)\n",
    "\t\t\tcv2.aruco.drawDetectedMarkers(frame, corners)\n",
    "\t\t\tcv2.drawFrameAxes(frame, matrix_coefficients, distortion_coefficients, rvec, tvec, 5)\n",
    "\t\t\tprint(tvec)\n",
    "\treturn frame\n"
   ]
  },
  {
   "cell_type": "code",
   "execution_count": null,
   "metadata": {},
   "outputs": [],
   "source": [
    "import cv2\n",
    "import numpy as np\n",
    "\n",
    "# Load the image and the ArUco dictionary\n",
    "img = cv2.imread('marker.jpg')\n",
    "aruco_dict = cv2.aruco.Dictionary_get(cv2.aruco.DICT_4X4_50)\n",
    "\n",
    "# Detect the marker corners\n",
    "parameters = cv2.aruco.DetectorParameters_create()\n",
    "corners, ids, _ = cv2.aruco.detectMarkers(img, aruco_dict, parameters=parameters)\n",
    "\n",
    "# Define the marker size and the camera intrinsic matrix\n",
    "marker_size = 10 # in millimeters\n",
    "camera_matrix = np.array([[focal_length_x, 0, principal_point_x], [0, focal_length_y, principal_point_y], [0, 0, 1]])\n",
    "\n",
    "# Estimate the pose of the marker using solvePnP\n",
    "marker_points = np.array([[-marker_size/2, marker_size/2, 0], [marker_size/2, marker_size/2, 0], [marker_size/2, -marker_size/2, 0], [-marker_size/2, -marker_size/2, 0]], dtype=np.float32)\n",
    "_, rvec, tvec = cv2.solvePnP(marker_points, corners[0], camera_matrix, None)\n",
    "\n",
    "# Draw the axis and the marker outline\n",
    "img = cv2.aruco.drawAxis(img, camera_matrix, None, rvec, tvec, 0.1*marker_size)\n",
    "img = cv2.aruco.drawDetectedMarkers(img, corners)\n",
    "\n",
    "# Display the image\n",
    "cv2.imshow('Image', img)\n",
    "cv2.waitKey(0)\n",
    "cv2.destroyAllWindows()\n"
   ]
  },
  {
   "cell_type": "code",
   "execution_count": 10,
   "metadata": {},
   "outputs": [
    {
     "ename": "AttributeError",
     "evalue": "module 'cv2.aruco' has no attribute 'estimatePoseSingleMarkers'",
     "output_type": "error",
     "traceback": [
      "\u001b[1;31m---------------------------------------------------------------------------\u001b[0m",
      "\u001b[1;31mAttributeError\u001b[0m                            Traceback (most recent call last)",
      "Cell \u001b[1;32mIn[10], line 15\u001b[0m\n\u001b[0;32m     12\u001b[0m intrinsic_camera \u001b[38;5;241m=\u001b[39m np\u001b[38;5;241m.\u001b[39marray(((\u001b[38;5;241m207.66132141\u001b[39m,\u001b[38;5;241m0\u001b[39m,\u001b[38;5;241m251.41218615\u001b[39m),(\u001b[38;5;241m0\u001b[39m,\u001b[38;5;241m205.751007\u001b[39m,\u001b[38;5;241m338.91119239\u001b[39m),(\u001b[38;5;241m0\u001b[39m,\u001b[38;5;241m0\u001b[39m,\u001b[38;5;241m1\u001b[39m)))\n\u001b[0;32m     13\u001b[0m distortion \u001b[38;5;241m=\u001b[39m np\u001b[38;5;241m.\u001b[39marray(( \u001b[38;5;241m0.07640411\u001b[39m,\u001b[38;5;241m-\u001b[39m\u001b[38;5;241m0.06229856\u001b[39m,\u001b[38;5;241m0.01462332\u001b[39m,\u001b[38;5;241m0.0039293\u001b[39m,\u001b[38;5;241m0.00467759\u001b[39m))\n\u001b[1;32m---> 15\u001b[0m detected_markers\u001b[38;5;241m=\u001b[39m\u001b[43mpose_estimation\u001b[49m\u001b[43m(\u001b[49m\u001b[43mimg\u001b[49m\u001b[43m,\u001b[49m\u001b[43mcv2\u001b[49m\u001b[38;5;241;43m.\u001b[39;49m\u001b[43maruco\u001b[49m\u001b[38;5;241;43m.\u001b[39;49m\u001b[43mDICT_4X4_50\u001b[49m\u001b[43m,\u001b[49m\u001b[43mintrinsic_camera\u001b[49m\u001b[43m,\u001b[49m\u001b[43mdistortion\u001b[49m\u001b[43m)\u001b[49m\n\u001b[0;32m     16\u001b[0m \u001b[38;5;66;03m# corners,ids,rejected=cv2.aruco.detectMarkers(img,arucoDict,parameters=arucoParams)\u001b[39;00m\n\u001b[0;32m     17\u001b[0m \u001b[38;5;66;03m# detected_markers=aruco_display(corners,ids,rejected,img)\u001b[39;00m\n\u001b[0;32m     18\u001b[0m cv2\u001b[38;5;241m.\u001b[39mimshow(\u001b[38;5;124m\"\u001b[39m\u001b[38;5;124mImage\u001b[39m\u001b[38;5;124m\"\u001b[39m,detected_markers)\n",
      "Cell \u001b[1;32mIn[9], line 13\u001b[0m, in \u001b[0;36mpose_estimation\u001b[1;34m(frame, aruco_dict_type, matrix_coefficients, distortion_coefficients)\u001b[0m\n\u001b[0;32m     11\u001b[0m \u001b[38;5;28;01mif\u001b[39;00m \u001b[38;5;28mlen\u001b[39m(corners) \u001b[38;5;241m>\u001b[39m \u001b[38;5;241m0\u001b[39m:\n\u001b[0;32m     12\u001b[0m \t\u001b[38;5;28;01mfor\u001b[39;00m i \u001b[38;5;129;01min\u001b[39;00m \u001b[38;5;28mrange\u001b[39m(\u001b[38;5;241m0\u001b[39m, \u001b[38;5;28mlen\u001b[39m(ids)):\n\u001b[1;32m---> 13\u001b[0m \t\trvec, tvec, markerPoints \u001b[38;5;241m=\u001b[39m \u001b[43mcv2\u001b[49m\u001b[38;5;241;43m.\u001b[39;49m\u001b[43maruco\u001b[49m\u001b[38;5;241;43m.\u001b[39;49m\u001b[43mestimatePoseSingleMarkers\u001b[49m(corners[i], \u001b[38;5;241m10\u001b[39m, matrix_coefficients,distortion_coefficients)\n\u001b[0;32m     14\u001b[0m \t\tcv2\u001b[38;5;241m.\u001b[39maruco\u001b[38;5;241m.\u001b[39mdrawDetectedMarkers(frame, corners)\n\u001b[0;32m     15\u001b[0m \t\tcv2\u001b[38;5;241m.\u001b[39mdrawFrameAxes(frame, matrix_coefficients, distortion_coefficients, rvec, tvec, \u001b[38;5;241m5\u001b[39m)\n",
      "\u001b[1;31mAttributeError\u001b[0m: module 'cv2.aruco' has no attribute 'estimatePoseSingleMarkers'"
     ]
    }
   ],
   "source": [
    "cap=cv2.VideoCapture(0)\n",
    "    \n",
    "cap.set(cv2.CAP_PROP_FRAME_WIDTH,1280)\n",
    "cap.set(cv2.CAP_PROP_FRAME_HEIGHT,720)\n",
    "\n",
    "while cap.isOpened():\n",
    "\tret,img=cap.read()\n",
    "\th,w,_=img.shape\n",
    "\twidth=1000\n",
    "\theight=int(width*(h/w))\n",
    "\timg=cv2.resize(img,(width,height),interpolation=cv2.INTER_CUBIC)\n",
    "\tintrinsic_camera = np.array(((207.66132141,0,251.41218615),(0,205.751007,338.91119239),(0,0,1)))\n",
    "\tdistortion = np.array(( 0.07640411,-0.06229856,0.01462332,0.0039293,0.00467759))\n",
    "\n",
    "\tdetected_markers=pose_estimation(img,cv2.aruco.DICT_4X4_50,intrinsic_camera,distortion)\n",
    "\t# corners,ids,rejected=cv2.aruco.detectMarkers(img,arucoDict,parameters=arucoParams)\n",
    "\t# detected_markers=aruco_display(corners,ids,rejected,img)\n",
    "\tcv2.imshow(\"Image\",detected_markers)\n",
    "\n",
    "\tkey=cv2.waitKey(10)\n",
    "\n",
    "\tif key == 27:\n",
    "\t\tbreak\n",
    "cv2.destroyAllWindows()\n",
    "cap.release()\n"
   ]
  },
  {
   "cell_type": "code",
   "execution_count": null,
   "metadata": {},
   "outputs": [],
   "source": []
  }
 ],
 "metadata": {
  "kernelspec": {
   "display_name": "Python 3",
   "language": "python",
   "name": "python3"
  },
  "language_info": {
   "codemirror_mode": {
    "name": "ipython",
    "version": 3
   },
   "file_extension": ".py",
   "mimetype": "text/x-python",
   "name": "python",
   "nbconvert_exporter": "python",
   "pygments_lexer": "ipython3",
   "version": "3.11.4"
  }
 },
 "nbformat": 4,
 "nbformat_minor": 2
}
