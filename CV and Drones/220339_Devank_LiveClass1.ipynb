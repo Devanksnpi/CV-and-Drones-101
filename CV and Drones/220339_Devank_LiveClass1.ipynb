import cv2
import numpy as np
import matplotlib.pyplot as plt

def solve(s):

	image = cv2.imread(s)

	gray = cv2.cvtColor(image, cv2.COLOR_BGR2GRAY)

	fourier = cv2.dft(np.float32(gray), flags=cv2.DFT_COMPLEX_OUTPUT)
 
	# Shift the zero-frequency component to the center of the spectrum
	fourier_shift = np.fft.fftshift(fourier)
 
	real_part = fourier_shift[:,:,0]		#stores the real part of the fourier transform
	complex_part = fourier_shift[:,:,1]		#stores the complex part of the fourier transform

	# calculate the magnitude of the Fourier Transform
	magnitude = 20*np.log(cv2.magnitude(real_part,complex_part))
 
	# Scale the magnitude for display
	magnitude = cv2.normalize(magnitude, None, 0, 255, cv2.NORM_MINMAX, cv2.CV_8UC1)

	plt.subplot(121), plt.imshow(image, cmap='gray')
	plt.title('Input Image'), plt.xticks([]), plt.yticks([])
	plt.subplot(122), plt.imshow(magnitude, cmap='gray')
	plt.title('Magnitude Spectrum'), plt.xticks([]), plt.yticks([])
	plt.show()