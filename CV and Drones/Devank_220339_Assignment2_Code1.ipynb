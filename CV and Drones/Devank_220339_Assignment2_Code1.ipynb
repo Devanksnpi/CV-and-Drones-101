{
 "cells": [
  {
   "cell_type": "code",
   "execution_count": 1,
   "metadata": {},
   "outputs": [],
   "source": [
    "import cv2\n",
    "import numpy as np\n",
    "import matplotlib.pyplot as plt\n",
    "from flag import generate\n",
    "def rotate(img, y):\n",
    "    rows,cols,_= img.shape \n",
    "    M = cv2.getRotationMatrix2D((cols/2,rows/2),-y,1) \n",
    "    rotated = cv2.warpAffine(img,M,(cols,rows))\n",
    "    return rotated\n",
    "def rotatedFlags():\n",
    "    flag = generate()\n",
    "    images = [flag]\n",
    "    for y in [90,180,270]:\n",
    "        rotated=rotate(flag,y)\n",
    "        images.append(rotated)\n",
    "\n",
    "    _, ax=plt.subplots(2,2)\n",
    "    for i in range(2):\n",
    "        for j in range(2):\n",
    "            ax[i][j].imshow(images[2*i+j])\n",
    "            ax[i][j].set_title(f\"{(2*i+j)*90} degree\")\n",
    "            ax[i][j].axis('off')\n",
    "    \n",
    "    plt.show()\n",
    "\n",
    "rotatedFlags()"
   ]
  }
 ],
 "metadata": {
  "kernelspec": {
   "display_name": "Python 3",
   "language": "python",
   "name": "python3"
  },
  "language_info": {
   "codemirror_mode": {
    "name": "ipython",
    "version": 3
   },
   "file_extension": ".py",
   "mimetype": "text/x-python",
   "name": "python",
   "nbconvert_exporter": "python",
   "pygments_lexer": "ipython3",
   "version": "3.11.4"
  }
 },
 "nbformat": 4,
 "nbformat_minor": 2
}
